{
 "cells": [
  {
   "cell_type": "markdown",
   "metadata": {},
   "source": [
    "\n",
    "# Graphing Puzzle\n",
    "\n",
    "Write a function answer(dimensions, shooter, target, distance) that gives an array of 2 integers of the width and height of the room, an array of 2 integers of shooter's x and y coordinates in the room, an array of 2 integers of the target's x and y coordinates in the room, and returns an integer of the number of distinct directions that the shooter can fire to hit the target , given the maximum distance that the beam can travel. The beam reflects off of the walls with no loss.\n",
    "\n",
    "The room has integer dimensions [1 < x_dim <= 1000, 1 < y_dim <= 1000]. The shooter and the target are both positioned on the integer lattice at different distinct positions (x, y) inside the room such that [0 < x < x_dim, 0 < y < y_dim]. Finally, the maximum distance that the beam can travel before becoming harmless will be given as an integer 1 < distance <= 10000.\n",
    "\n",
    "For example, if the shooter and the target were positioned in a room with dimensions [3, 2], shooter_position [1, 1], target_position [2, 1], and a maximum shot distance of 4, you could shoot in seven different directions to hit the target (given as vector bearings from the shooter location): [1, 0], [1, 2], [1, -2], [3, 2], [3, -2], [-3, 2], and [-3, -2]. As specific examples, the shot at bearing [1, 0] is the straight line horizontal shot of distance 1, the shot at bearing [-3, -2] bounces off the left wall and then the bottom wall before hitting the target with a total shot distance of $\\sqrt{13}$ , and the shot at bearing [1, 2] bounces off just the top wall before hitting the target with a total shot distance of $\\sqrt{5}$."
   ]
  },
  {
   "cell_type": "markdown",
   "metadata": {},
   "source": [
    "Test cases\n",
    "==========\n",
    "\n",
    "Inputs:<br>\n",
    "    * (int list) dimensions = [3, 2]\n",
    "    * (int list) captain_position = [1, 1]\n",
    "    * (int list) badguy_position = [2, 1]\n",
    "    * (int) distance = 4\n",
    "Output:\n",
    "    * (int) 7\n",
    "\n",
    "Inputs:\n",
    "    * (int list) dimensions = [300, 275]\n",
    "    * (int list) captain_position = [150, 150]\n",
    "    * (int list) badguy_position = [185, 100]\n",
    "    * (int) distance = 500\n",
    "Output:\n",
    "    * (int) 9"
   ]
  },
  {
   "cell_type": "code",
   "execution_count": 1,
   "metadata": {
    "collapsed": true
   },
   "outputs": [],
   "source": [
    "from math import atan2 as atan2\n",
    "from math import hypot as hypot\n",
    "\n",
    "\n",
    "def answer(dimenension, captain_position, bad_guy_position, distance):\n",
    "\n",
    "    # determine size of grid of mirrored boxes\n",
    "    hy = float(distance)/dimenension[1]\n",
    "    hx = float(distance)/dimenension[0]\n",
    "    grid = (int(max(hy,hx)) + int(max(hy,hx)%1 >0))*2 + 1 # this will be dimensions of grid\n",
    "    center = grid/2 # find midpoint of grid \n",
    "\n",
    "    # make two matrices, distance from me(shooter) to guard (target), distance from me to other\n",
    "    # me, each tuple is (delta_x, delta_y)\n",
    "    # make two vectors to fill each matrix\n",
    "    # one for delta x - same for each column\n",
    "    # one for detal y - same for each row\n",
    "\n",
    "    delta_guard = [[(0,0) for _ in range(grid)] for _ in range(grid)]\n",
    "    dg_x = [0 for _ in range(grid)]\n",
    "    dg_y = [0 for _ in range(grid)]\n",
    "    dg_t = [0. for _ in range(grid)]\n",
    "\n",
    "    delta_me = [[(0,0) for _ in range(grid)] for _ in range(grid)]\n",
    "    dm_x = [0 for _ in range(grid)]\n",
    "    dm_y = [0 for _ in range(grid)]\n",
    "    dm_t = [0. for _ in range(grid)]\n",
    "\n",
    "    # set the values in four boxes touching the origin of the original box\n",
    "    # layout matches how boxes would appear on paper (x+ y+ is lower right quatrant of matrix)\n",
    "    i = center # adjusted for python starting at 0\n",
    "    dg_x[i] = bad_guy_position[0]-captain_position[0]\n",
    "    dg_x[i-1] = -bad_guy_position[0]-captain_position[0]\n",
    "    dg_y[i] = bad_guy_position[1]-captain_position[1]\n",
    "    dg_y[i-1] = -bad_guy_position[1]-captain_position[1]\n",
    "\n",
    "    dm_x[i] = 0\n",
    "    dm_x[i-1] = -2*captain_position[0]\n",
    "    dm_y[i] = 0\n",
    "    dm_y[i-1] = -2*captain_position[1]\n",
    "\n",
    "    # fill positive quadrant (lower right) of matrix\n",
    "    for j in range(center+1,grid):\n",
    "        if (j-center)%2 == 0:\n",
    "            dg_x[j] = (j - center)*dimenension[0] + bad_guy_position[0] - captain_position[0]\n",
    "            dg_y[j] = (j - center)*dimenension[1] + bad_guy_position[1] - captain_position[1]\n",
    "            dm_x[j] = (j - center)*dimenension[0]\n",
    "            dm_y[j] = (j - center)*dimenension[1]\n",
    "        else:\n",
    "            dg_x[j] = (j - center + 1)*dimenension[0] - bad_guy_position[0] \\\n",
    "                       - captain_position[0]\n",
    "            dg_y[j] = (j - center + 1)*dimenension[1] - bad_guy_position[1] \\\n",
    "                       - captain_position[1]\n",
    "            dm_x[j] = (j - center + 1)*dimenension[0] - 2*captain_position[0]\n",
    "            dm_y[j] = (j - center + 1)*dimenension[1] - 2*captain_position[1]\n",
    "\n",
    "    # fill negative quadrant (upper left) of matrix\n",
    "    for i in range(center - 1):\n",
    "        if (center-1-i)%2 == 0:\n",
    "            dg_x[i] = -(center - 1 - i)*dimenension[0] - bad_guy_position[0] \\\n",
    "                      - captain_position[0]\n",
    "            dg_y[i] = -(center - 1 - i)*dimenension[1] - bad_guy_position[1] \\\n",
    "                      - captain_position[1]\n",
    "            dm_x[i] = -(center - 1 - i)*dimenension[0] - 2*captain_position[0]\n",
    "            dm_y[i] = -(center - 1 - i)*dimenension[1] - 2*captain_position[1]\n",
    "        else:\n",
    "            dg_x[i] = -(center - 1 - i + 1)*dimenension[0] + bad_guy_position[0] \\\n",
    "                      - captain_position[0]\n",
    "            dg_y[i] = -(center - 1 - i + 1)*dimenension[1] + bad_guy_position[1] \\\n",
    "                      - captain_position[1]\n",
    "            dm_x[i] = -(center - 1 - i + 1)*dimenension[0] \n",
    "            dm_y[i] = -(center - 1 - i + 1)*dimenension[1] \n",
    "\n",
    "    # set the matrix of x,y co-ordiantes relative to original captain (me)\n",
    "    delta_guard = [[(dg_x[i],dg_y[j]) for i in range(grid)] for j in range(grid)]\n",
    "    delta_me = [[(dm_x[i],dm_y[j]) for i in range(grid)] for j in range(grid)]\n",
    "\n",
    "    # then flatten into lists\n",
    "    bad_guy = [item for sublist in delta_guard for item in sublist]\n",
    "    good_guy = [item for sublist in delta_me for item in sublist]\n",
    "\n",
    "    # shots - list of all possible shots captain can take\n",
    "    # (angle in radians, distance, bg or gg)\n",
    "\n",
    "    shots = []\n",
    "    for i in bad_guy:\n",
    "        r = hypot(i[0],i[1]) \n",
    "        if r <= distance:\n",
    "            shots.append((atan2(i[1],i[0]),r,'bg'))\n",
    "\n",
    "    for i in good_guy:\n",
    "        r = hypot(i[0],i[1]) \n",
    "        if r <= distance and r != 0:\n",
    "            shots.append((atan2(i[1],i[0]),r,'gg'))\n",
    "    shots.sort(key = lambda x: x[0])\n",
    "\n",
    "    # list of unique theta's in shots (no duplicates)\n",
    "    thetas = list(set([item[0] for item in shots]))\n",
    "\n",
    "    # create a dictionary of shots, key = theta\n",
    "    # set value equal to closes shot at each angle\n",
    "    # max distance for shot is 10,000\n",
    "    d_shots = {}\n",
    "    d_shots = {item: (10010,'empty') for item in thetas}\n",
    "    for item in shots:\n",
    "        if item[1] < d_shots[item[0]][0]:\n",
    "            d_shots[item[0]] = (item[1],item[2])\n",
    "\n",
    "    hits = 0\n",
    "    for key,values in d_shots.iteritems():\n",
    "        if values[1] == 'bg':\n",
    "            hits += 1\n",
    "        else:\n",
    "            continue\n",
    "\n",
    "    return hits\n"
   ]
  },
  {
   "cell_type": "code",
   "execution_count": 2,
   "metadata": {
    "collapsed": true
   },
   "outputs": [],
   "source": [
    "# Test input 1\n",
    "\n",
    "box = [3, 2]\n",
    "me = [1, 1]\n",
    "bg = [2, 1]\n",
    "dist = 4"
   ]
  },
  {
   "cell_type": "code",
   "execution_count": 4,
   "metadata": {
    "collapsed": true
   },
   "outputs": [],
   "source": [
    "# Test input 2\n",
    "\n",
    "box = [300, 275]\n",
    "me = [150, 150]\n",
    "bg = [185, 100] # bg is bad guy\n",
    "dist = 500"
   ]
  },
  {
   "cell_type": "code",
   "execution_count": 5,
   "metadata": {},
   "outputs": [
    {
     "data": {
      "text/plain": [
       "9"
      ]
     },
     "execution_count": 5,
     "metadata": {},
     "output_type": "execute_result"
    }
   ],
   "source": [
    "answer(box,me,bg,dist)\n"
   ]
  }
 ],
 "metadata": {
  "anaconda-cloud": {},
  "kernelspec": {
   "display_name": "Python [Root]",
   "language": "python",
   "name": "Python [Root]"
  },
  "language_info": {
   "codemirror_mode": {
    "name": "ipython",
    "version": 2
   },
   "file_extension": ".py",
   "mimetype": "text/x-python",
   "name": "python",
   "nbconvert_exporter": "python",
   "pygments_lexer": "ipython2",
   "version": "2.7.11"
  }
 },
 "nbformat": 4,
 "nbformat_minor": 1
}
