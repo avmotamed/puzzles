{
 "cells": [
  {
   "cell_type": "markdown",
   "metadata": {},
   "source": [
    "# Betting Guards\n",
    "# ===================\n",
    "\n",
    "You must pair up the guards in such a way that the maximum number of guards go into an infinite thumb wrestling loop!\n",
    "\n",
    "You know enough guard psychology to know that the one who has more bananas always gets over-confident and loses. Once a match begins, the pair of guards will continue to thumb wrestle and exchange bananas, until both of them have the same number of bananas. Once that happens, both of them will lose interest and go back to guarding the prisoners, and you don't want THAT to happen!\n",
    "\n",
    "For example, if the two guards that were paired started with 3 and 5 bananas, after the first round of thumb wrestling they will have 6 and 2 (the one with 3 bananas wins and gets 3 bananas from the loser). After the second round, they will have 4 and 4 (the one with 6 bananas loses 2 bananas). At that point they stop and get back to guarding.\n",
    "\n",
    "How is all this useful to distract the guards? Notice that if the guards had started with 1 and 4 bananas, then they keep thumb wrestling! 1, 4 -> 2, 3 -> 4, 1 -> 3, 2 -> 1, 4 and so on.\n",
    "\n",
    "You must pair up the guards in such a way that the maximum number of guards go into an infinite thumb wrestling loop!\n",
    "\n",
    "Write a function answer(banana_list) which, given a list of positive integers depicting the amount of bananas the each guard starts with, returns the fewest possible number of guards that will be left to watch the prisoners. Element i of the list will be the number of bananas that guard i (counting from 0) starts with.\n",
    "\n",
    "The number of guards will be at least 1 and not more than 100, and the number of bananas each guard starts with will be a positive integer no more than 1073741823 (i.e. 2^30 -1). Some of them stockpile a LOT of bananas.\n",
    "\n",
    "\n",
    "## Test cases\n",
    "## ==========\n",
    "\n",
    "Inputs:\n",
    "    (int list) banana_list = [1, 1]\n",
    "Output:\n",
    "    (int) 2\n",
    "\n",
    "Inputs:\n",
    "    (int list) banana_list = [1, 7, 3, 21, 13, 19]\n",
    "Output:\n",
    "    (int) 0\n"
   ]
  },
  {
   "cell_type": "markdown",
   "metadata": {
    "collapsed": true
   },
   "source": [
    "# Relationship between # of bananas for betting to terminate\n",
    "\n",
    "$$ \\frac{x}{y} = 2^{n+1} - 1$$\n",
    "\n",
    "$$ n = log_{2} \\left( \\frac{x}{y} + 1 \\right) - 1 $$\n",
    "\n",
    "where n is an integer, then the x, y pair will terminate"
   ]
  },
  {
   "cell_type": "markdown",
   "metadata": {},
   "source": [
    "Priority of checking pairs:\n",
    "* Check if sum of pair is odd\n",
    "    * if yes, remove pair (will not terminate)\n",
    "* Pairing is even\n",
    "    * odd pairs don't work\n",
    "    * e.g. can't end at 3:3\n",
    "    * if odd pair (e.g. 5:5) it will not terminate - remove pair\n",
    "* elif max/min - 1 is divisible by 2\n",
    "    * This will terminate - keep pair\n",
    "* elif check with pair(a,b) method below\n",
    "    * large numbers may not divide smoothly, but this will catch those and any other edge cases\n",
    "    * keep pair if terminates if terminates\n",
    "    * remove pair if does not terminate (pull out of list/dictionary)\n",
    "    \n",
    "End result:\n",
    "* sort the input list\n",
    "* run 1st number in list against others:\n",
    "    * check x/y + 1 vs a list of 2^n, if in list then don't remove pair\n",
    "    * check sum(x+y) vs the same list of 2^n (noticed this pattern while checking routine), don't remove pair\n",
    "    * if neither of above met, remove pair\n",
    "* added some efficiencies in to end check when no numbers remained in list\n",
    "* numbers remaining in list are the guards that could not be tied up indefinitely.\n"
   ]
  },
  {
   "cell_type": "code",
   "execution_count": 1,
   "metadata": {
    "collapsed": true
   },
   "outputs": [],
   "source": [
    "def answer(banana_list):\n",
    "    free_guards = 0\n",
    "    banana_list.sort()\n",
    "    two_n = [float(pow(2,x)) for x in range(31)] #max is 2^30\n",
    "    for i in range(len(banana_list)):\n",
    "        if banana_list[i] == 0:\n",
    "            continue\n",
    "        for j in range(i+1,len(banana_list)):\n",
    "            if banana_list[i] == 0 or banana_list[j] ==0:\n",
    "                continue\n",
    "            sums = banana_list[i] + banana_list[j] # sum of pair\n",
    "            ratio = float(max(banana_list[i],banana_list[j]))/(min(banana_list[i],\n",
    "                                                                   banana_list[j])) \n",
    "            if (ratio+1) in two_n or sums in two_n:\n",
    "                continue\n",
    "            else:\n",
    "                banana_list[i] = 0\n",
    "                banana_list[j] = 0\n",
    "    return(sum([1 for x in banana_list if x >0]))  \n"
   ]
  },
  {
   "cell_type": "code",
   "execution_count": 2,
   "metadata": {
    "collapsed": true
   },
   "outputs": [],
   "source": [
    "# n = [1, 7, 3, 21, 13, 19] # zero return\n",
    "# n = [1,1] # 2 return\n",
    "# n = [1,2]\n",
    "n = [5,3] # 2 return (5/3 ratio)"
   ]
  },
  {
   "cell_type": "code",
   "execution_count": 3,
   "metadata": {},
   "outputs": [
    {
     "data": {
      "text/plain": [
       "2"
      ]
     },
     "execution_count": 3,
     "metadata": {},
     "output_type": "execute_result"
    }
   ],
   "source": [
    "answer(n) # calls function"
   ]
  },
  {
   "cell_type": "code",
   "execution_count": null,
   "metadata": {
    "collapsed": true
   },
   "outputs": [],
   "source": []
  }
 ],
 "metadata": {
  "anaconda-cloud": {},
  "kernelspec": {
   "display_name": "Python [Root]",
   "language": "python",
   "name": "Python [Root]"
  },
  "language_info": {
   "codemirror_mode": {
    "name": "ipython",
    "version": 2
   },
   "file_extension": ".py",
   "mimetype": "text/x-python",
   "name": "python",
   "nbconvert_exporter": "python",
   "pygments_lexer": "ipython2",
   "version": "2.7.11"
  }
 },
 "nbformat": 4,
 "nbformat_minor": 1
}
